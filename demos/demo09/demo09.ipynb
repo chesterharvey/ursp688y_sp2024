{
 "cells": [
  {
   "cell_type": "markdown",
   "id": "13b62af4-9c03-46d7-805c-cebadd28185e",
   "metadata": {
    "editable": true,
    "id": "13b62af4-9c03-46d7-805c-cebadd28185e",
    "tags": []
   },
   "source": [
    "Urban Data Science & Smart Cities <br>\n",
    "URSP688Y <br>\n",
    "Instructor: Chester Harvey <br>\n",
    "Urban Studies & Planning <br>\n",
    "National Center for Smart Growth <br>\n",
    "University of Maryland"
   ]
  },
  {
   "cell_type": "markdown",
   "id": "c01d7dab-14e4-4222-b82b-8d400bce0e2c",
   "metadata": {
    "id": "c01d7dab-14e4-4222-b82b-8d400bce0e2c"
   },
   "source": [
    "[<img src=\"https://colab.research.google.com/assets/colab-badge.svg\"> Clean version](https://colab.research.google.com/github/ncsg/ursp688y_sp2024/blob/main/demos/demo09/demo09.ipynb)"
   ]
  },
  {
   "cell_type": "markdown",
   "id": "e7a0a5da-0108-408b-b306-58f59b895ad8",
   "metadata": {
    "id": "e7a0a5da-0108-408b-b306-58f59b895ad8"
   },
   "source": [
    "[<img src=\"https://colab.research.google.com/assets/colab-badge.svg\"> Modified in class](https://colab.research.google.com/drive/1yWxf4Jvh0vEEByjydrp4B4GzwHSGUYr0?usp=sharing)"
   ]
  },
  {
   "cell_type": "markdown",
   "id": "b7d7937e-5289-44bb-ac8b-1e0b03a74e0b",
   "metadata": {
    "id": "b7d7937e-5289-44bb-ac8b-1e0b03a74e0b"
   },
   "source": [
    "# Demo 9 - Geospatial Data (cont.)\n",
    "\n",
    "- Coordinate systems\n",
    "- Points from XY\n",
    "- Loading shapefiles and geojsons\n",
    "- Proximity analysis\n",
    "    - Measuring distance\n",
    "    - Buffering\n",
    "- Overlay analysis\n",
    "- Spatial joining"
   ]
  },
  {
   "cell_type": "code",
   "execution_count": 1,
   "id": "c6803f96-73af-497a-bd12-d3dec85df8b6",
   "metadata": {},
   "outputs": [],
   "source": [
    "import os\n",
    "import pandas as pd\n",
    "import geopandas as gpd\n",
    "\n",
    "# # Mount Google Drive\n",
    "# from google.colab import drive\n",
    "# drive.mount('/content/drive')\n",
    "\n",
    "# # Set the working directory\n",
    "# # You will need to change this to your own folder on Google Drive\n",
    "# os.chdir('/content/drive/MyDrive/Teaching/URSP688Y Spring 2024/demos/week07')"
   ]
  },
  {
   "cell_type": "markdown",
   "id": "67311c8c-b72a-48a6-a9a0-3f9c5bfe3c1b",
   "metadata": {},
   "source": [
    "## Geospatial data fundamentals\n",
    "- Basic geometry types:\n",
    "    - Points\n",
    "    - Linestrings\n",
    "    - Polygons\n",
    "\n",
    "<img alt=\"points, lines, and polygons\" width=500 src=\"https://datacarpentry.org/organization-geospatial/fig/dc-spatial-vector/pnt_line_poly.png\">\n",
    "\n",
    "- Spatial analysis (with vector data) is essentially just Euclidean geometry (remember the Pythagorean theorem?)\n",
    "\n",
    "<img alt=\"pythagorean theorem\" width=500 src=\"https://www.katesmathlessons.com/uploads/1/6/1/0/1610286/published/how-to-use-the-pythagorean-theorem-to-find-distance-between-points-on-coordinate-plane-2.png?1595954050\">"
   ]
  },
  {
   "cell_type": "markdown",
   "id": "57edb1da-320c-4de9-9b67-6dc50af18ada",
   "metadata": {},
   "source": [
    "## Geospatial data are everywhere\n",
    "\n",
    "DC affordable housing: https://opendata.dc.gov/datasets/DCGIS::affordable-housing/about"
   ]
  },
  {
   "cell_type": "markdown",
   "id": "51ae40bb-962f-40cf-ae99-79f0f54f2b07",
   "metadata": {},
   "source": [
    "### Read CSV"
   ]
  },
  {
   "cell_type": "code",
   "execution_count": null,
   "id": "811a7887-62a3-48d6-a0bb-d7898d46622e",
   "metadata": {},
   "outputs": [],
   "source": [
    "df = pd.read_csv('Affordable_Housing.csv')"
   ]
  },
  {
   "cell_type": "code",
   "execution_count": null,
   "id": "6274c81d-b251-48a6-bc08-21e66191edcd",
   "metadata": {},
   "outputs": [],
   "source": [
    "df.head()"
   ]
  },
  {
   "cell_type": "markdown",
   "id": "d0018da9-96a1-47af-859a-22b4ee7d0126",
   "metadata": {},
   "source": [
    "### Coordinate Systems\n",
    "- Latitude and longitude\n",
    "- Map projections"
   ]
  },
  {
   "cell_type": "markdown",
   "id": "8829f1e3-9444-417a-b6b0-a20320632a38",
   "metadata": {},
   "source": [
    "### Convert XY coordinates to points\n",
    "\n",
    "Here are some quick references for the package (GeoPandas), function (`points_from_xy`), and Class (a GeoDataFrame) we'll use to do this. We can also quickly make a very simple map with the `plot` method.\n",
    "\n",
    "- [GeoPandas](https://geopandas.org/en/stable/getting_started/introduction.html)\n",
    "\n",
    "- [`points_from_xy`](https://geopandas.org/en/stable/docs/reference/api/geopandas.points_from_xy.html)\n",
    "\n",
    "- [GeoDataFrame](https://geopandas.org/en/stable/docs/reference/api/geopandas.GeoDataFrame.html)\n",
    "\n",
    "- [`plot`](https://geopandas.org/en/stable/docs/user_guide/mapping.html) method\n",
    "\n"
   ]
  },
  {
   "cell_type": "code",
   "execution_count": null,
   "id": "aaf41892-26dc-47eb-be95-544a96b72929",
   "metadata": {},
   "outputs": [],
   "source": [
    "# Geometry array without coordinate system defined\n",
    "geoms = gpd.points_from_xy(df['X'], df['Y'])\n",
    "geoms"
   ]
  },
  {
   "cell_type": "code",
   "execution_count": null,
   "id": "0f5e7fc8-9dc4-4320-aa7c-12654f8d8037",
   "metadata": {},
   "outputs": [],
   "source": [
    "# Geometry array with coordinate system defined (4326 is the EPSG code for WGS84, the most common latitude-longitude coordinate system) \n",
    "geoms = gpd.points_from_xy(df['X'], df['Y'], crs=4326)\n",
    "geoms.crs"
   ]
  },
  {
   "cell_type": "markdown",
   "id": "01db14db-bce3-496c-a1ea-9bb51e84ed8c",
   "metadata": {},
   "source": [
    "### Create a GeoDataFrame from a DataFrame plus a geometry column"
   ]
  },
  {
   "cell_type": "code",
   "execution_count": null,
   "id": "2faf2deb-d66a-42e2-b22b-56894a02ff83",
   "metadata": {},
   "outputs": [],
   "source": [
    "gdf = gpd.GeoDataFrame(df, geometry=geoms, crs=4326)"
   ]
  },
  {
   "cell_type": "code",
   "execution_count": null,
   "id": "ef2ca2df-06d7-4170-9d35-bcab37a646e9",
   "metadata": {},
   "outputs": [],
   "source": [
    "gdf.plot()"
   ]
  },
  {
   "cell_type": "code",
   "execution_count": null,
   "id": "6a26b8eb-57a9-4a5e-b9d8-090c8e221ec9",
   "metadata": {},
   "outputs": [],
   "source": [
    "gdf.crs"
   ]
  },
  {
   "cell_type": "markdown",
   "id": "83ed3b47-ad5e-4b3c-84f1-2b8a0b0b8e5d",
   "metadata": {},
   "source": [
    "### Read Shapefile "
   ]
  },
  {
   "cell_type": "code",
   "execution_count": null,
   "id": "e551adbd-6345-4361-b049-ad332aa7dc54",
   "metadata": {},
   "outputs": [],
   "source": [
    "gdf = gpd.read_file('Affordable_Housing.shp')"
   ]
  },
  {
   "cell_type": "code",
   "execution_count": null,
   "id": "2e264de5-2ff0-4cf9-8aaa-c2f83e92b29a",
   "metadata": {},
   "outputs": [],
   "source": [
    "gdf.plot()"
   ]
  },
  {
   "cell_type": "code",
   "execution_count": null,
   "id": "aa01f062-0631-4766-8b3f-2e86faac7f80",
   "metadata": {},
   "outputs": [],
   "source": [
    "gdf.crs"
   ]
  },
  {
   "cell_type": "markdown",
   "id": "06070678-0e43-4e3b-b68d-e67d50bded8a",
   "metadata": {},
   "source": [
    "### Read GeoJSON"
   ]
  },
  {
   "cell_type": "code",
   "execution_count": null,
   "id": "1ec95469-67dc-4019-85de-c926c8ae92d2",
   "metadata": {},
   "outputs": [],
   "source": [
    "gdf = gpd.read_file('affordable_housing.geojson')"
   ]
  },
  {
   "cell_type": "code",
   "execution_count": null,
   "id": "376610fc-993a-4e0e-9732-18fa1d4e9df9",
   "metadata": {},
   "outputs": [],
   "source": [
    "gdf.plot()"
   ]
  },
  {
   "cell_type": "code",
   "execution_count": null,
   "id": "f7d30380-f6df-455b-9f72-385428689f79",
   "metadata": {},
   "outputs": [],
   "source": [
    "gdf.crs"
   ]
  },
  {
   "cell_type": "markdown",
   "id": "4fbeeb4a-7df0-4f55-b41a-f16f4948c5c8",
   "metadata": {},
   "source": [
    "## Proximity"
   ]
  },
  {
   "cell_type": "markdown",
   "id": "34ebe3e9-b671-4d1a-b7d6-fc08b99228d8",
   "metadata": {},
   "source": [
    "### How far is each affordable housing project from Metro Center?\n",
    "\n",
    "Basic pseudocode steps:\n",
    "\n",
    "1. Get location of Metro Center\n",
    "\n",
    "2. For each housing project, how far is it from Metro Center?"
   ]
  },
  {
   "cell_type": "markdown",
   "id": "e59738e1-7ac1-41d1-b4d1-e225a312d942",
   "metadata": {},
   "source": [
    "- For loop approach:\n",
    "    - Get housing projects as a dataframe (list of points)\n",
    "        - Reproject into a coordinate system where we can measure distance (e.g., UTM)\n",
    "    - Get location of Metro Center as a point\n",
    "        - Reproject into a coordinate system where we can measure distance (e.g., UTM)\n",
    "    - For each housing project:\n",
    "        - Measure distance to the metro center point"
   ]
  },
  {
   "cell_type": "code",
   "execution_count": 2,
   "id": "7d7922b2-bbe9-4334-b3f0-faacb5f12f81",
   "metadata": {},
   "outputs": [
    {
     "data": {
      "text/html": [
       "<div>\n",
       "<style scoped>\n",
       "    .dataframe tbody tr th:only-of-type {\n",
       "        vertical-align: middle;\n",
       "    }\n",
       "\n",
       "    .dataframe tbody tr th {\n",
       "        vertical-align: top;\n",
       "    }\n",
       "\n",
       "    .dataframe thead th {\n",
       "        text-align: right;\n",
       "    }\n",
       "</style>\n",
       "<table border=\"1\" class=\"dataframe\">\n",
       "  <thead>\n",
       "    <tr style=\"text-align: right;\">\n",
       "      <th></th>\n",
       "      <th>PROJECT_NAME</th>\n",
       "      <th>utm_dist_to_metro_center</th>\n",
       "    </tr>\n",
       "  </thead>\n",
       "  <tbody>\n",
       "    <tr>\n",
       "      <th>0</th>\n",
       "      <td>5201 Hayes Street (Deanwood Hills)</td>\n",
       "      <td>9206.087612</td>\n",
       "    </tr>\n",
       "    <tr>\n",
       "      <th>1</th>\n",
       "      <td>5333 Connecticut Ave NW</td>\n",
       "      <td>7707.830052</td>\n",
       "    </tr>\n",
       "    <tr>\n",
       "      <th>2</th>\n",
       "      <td>5741 Colorado Avenue NW Tenant Association</td>\n",
       "      <td>6774.107424</td>\n",
       "    </tr>\n",
       "    <tr>\n",
       "      <th>3</th>\n",
       "      <td>62nd Street Apartments (w/ PADD) - Phase II (a...</td>\n",
       "      <td>10495.218911</td>\n",
       "    </tr>\n",
       "    <tr>\n",
       "      <th>4</th>\n",
       "      <td>6925-6929 Georgia Avenue</td>\n",
       "      <td>8428.154639</td>\n",
       "    </tr>\n",
       "  </tbody>\n",
       "</table>\n",
       "</div>"
      ],
      "text/plain": [
       "                                        PROJECT_NAME  utm_dist_to_metro_center\n",
       "0                 5201 Hayes Street (Deanwood Hills)               9206.087612\n",
       "1                            5333 Connecticut Ave NW               7707.830052\n",
       "2         5741 Colorado Avenue NW Tenant Association               6774.107424\n",
       "3  62nd Street Apartments (w/ PADD) - Phase II (a...              10495.218911\n",
       "4                           6925-6929 Georgia Avenue               8428.154639"
      ]
     },
     "execution_count": 2,
     "metadata": {},
     "output_type": "execute_result"
    }
   ],
   "source": [
    "# Store the EPSG code for utm18, a coordinate system in which we can reliably measure distance\n",
    "UTM18 = 26918\n",
    "# And for WGS84\n",
    "WGS84 = 4326\n",
    "\n",
    "# Load the affordable housing projects as a dataframe\n",
    "gdf = gpd.read_file('affordable_housing.geojson')\n",
    "# Project into UTM18\n",
    "gdf = gdf.to_crs(epsg=UTM18)\n",
    "\n",
    "# Load the location of metro center (lookup up lon and lat from Google Maps)\n",
    "metro_center = [38.8985198, -77.032774]\n",
    "# Convert into a geoseries and project into UTM18\n",
    "metro_center = gpd.points_from_xy([-77.032774], [38.8985198], crs=WGS84)\n",
    "metro_center = metro_center.to_crs(epsg=UTM18)\n",
    "# Get just the first point from the series\n",
    "metro_center = metro_center[0]\n",
    "\n",
    "# Initiate a list to store collected distances \n",
    "dists = []\n",
    "for point in gdf['geometry']:\n",
    "    dist = point.distance(metro_center)\n",
    "    dists.append(dist)\n",
    "\n",
    "gdf['utm_dist_to_metro_center'] = dists\n",
    "\n",
    "gdf[['PROJECT_NAME','utm_dist_to_metro_center']].head()"
   ]
  },
  {
   "cell_type": "markdown",
   "id": "73cfb99f-905a-4485-963f-f5629aabc52d",
   "metadata": {},
   "source": [
    "- Vectorized approach\n",
    "    - **Pick up here in week 9**"
   ]
  },
  {
   "cell_type": "markdown",
   "id": "59022017-0efe-46ad-8bae-93f71b6118e7",
   "metadata": {},
   "source": [
    "#### Haversine formula\n",
    "The [Haversine formula](https://en.wikipedia.org/wiki/Haversine_formula) can be used to calculate distances along the surface of a sphere, approximating distances between latitude and longitude points.\n",
    "\n",
    "Here's a function implementing it in Python:"
   ]
  },
  {
   "cell_type": "code",
   "execution_count": 3,
   "id": "e0dd22f7-ea7c-446d-a7d3-3b74b1663a2a",
   "metadata": {},
   "outputs": [],
   "source": [
    "from math import radians, cos, sin, asin, sqrt\n",
    "\n",
    "def haversine(lon1, lat1, lon2, lat2):\n",
    "    \"\"\"\n",
    "    Calculate the great circle distance in kilometers between two points \n",
    "    on the earth (specified in decimal degrees)\n",
    "\n",
    "    From https://stackoverflow.com/questions/4913349/haversine-formula-in-python-bearing-and-distance-between-two-gps-points\n",
    "    \"\"\"\n",
    "    # convert decimal degrees to radians \n",
    "    lon1, lat1, lon2, lat2 = map(radians, [lon1, lat1, lon2, lat2])\n",
    "\n",
    "    # haversine formula \n",
    "    dlon = lon2 - lon1 \n",
    "    dlat = lat2 - lat1 \n",
    "    a = sin(dlat/2)**2 + cos(lat1) * cos(lat2) * sin(dlon/2)**2\n",
    "    c = 2 * asin(sqrt(a)) \n",
    "    r = 6371 # Radius of earth in kilometers. Use 3956 for miles. Determines return value units.\n",
    "    return c * r"
   ]
  },
  {
   "cell_type": "markdown",
   "id": "7356088e-6155-4da1-8318-1afc34c538ea",
   "metadata": {},
   "source": [
    "We can rewrite our code using this function instead of the distance method we used previously:"
   ]
  },
  {
   "cell_type": "code",
   "execution_count": 13,
   "id": "62458606-1321-46d0-9f08-c63902b366e0",
   "metadata": {},
   "outputs": [
    {
     "data": {
      "text/html": [
       "<div>\n",
       "<style scoped>\n",
       "    .dataframe tbody tr th:only-of-type {\n",
       "        vertical-align: middle;\n",
       "    }\n",
       "\n",
       "    .dataframe tbody tr th {\n",
       "        vertical-align: top;\n",
       "    }\n",
       "\n",
       "    .dataframe thead th {\n",
       "        text-align: right;\n",
       "    }\n",
       "</style>\n",
       "<table border=\"1\" class=\"dataframe\">\n",
       "  <thead>\n",
       "    <tr style=\"text-align: right;\">\n",
       "      <th></th>\n",
       "      <th>PROJECT_NAME</th>\n",
       "      <th>utm_dist_to_metro_center</th>\n",
       "      <th>haversine_dist_to_metro_center</th>\n",
       "    </tr>\n",
       "  </thead>\n",
       "  <tbody>\n",
       "    <tr>\n",
       "      <th>0</th>\n",
       "      <td>5201 Hayes Street (Deanwood Hills)</td>\n",
       "      <td>9206.087612</td>\n",
       "      <td>9.184001</td>\n",
       "    </tr>\n",
       "    <tr>\n",
       "      <th>1</th>\n",
       "      <td>5333 Connecticut Ave NW</td>\n",
       "      <td>7707.830052</td>\n",
       "      <td>7.714206</td>\n",
       "    </tr>\n",
       "    <tr>\n",
       "      <th>2</th>\n",
       "      <td>5741 Colorado Avenue NW Tenant Association</td>\n",
       "      <td>6774.107424</td>\n",
       "      <td>6.785241</td>\n",
       "    </tr>\n",
       "    <tr>\n",
       "      <th>3</th>\n",
       "      <td>62nd Street Apartments (w/ PADD) - Phase II (a...</td>\n",
       "      <td>10495.218911</td>\n",
       "      <td>10.470167</td>\n",
       "    </tr>\n",
       "    <tr>\n",
       "      <th>4</th>\n",
       "      <td>6925-6929 Georgia Avenue</td>\n",
       "      <td>8428.154639</td>\n",
       "      <td>8.441898</td>\n",
       "    </tr>\n",
       "  </tbody>\n",
       "</table>\n",
       "</div>"
      ],
      "text/plain": [
       "                                        PROJECT_NAME  \\\n",
       "0                 5201 Hayes Street (Deanwood Hills)   \n",
       "1                            5333 Connecticut Ave NW   \n",
       "2         5741 Colorado Avenue NW Tenant Association   \n",
       "3  62nd Street Apartments (w/ PADD) - Phase II (a...   \n",
       "4                           6925-6929 Georgia Avenue   \n",
       "\n",
       "   utm_dist_to_metro_center  haversine_dist_to_metro_center  \n",
       "0               9206.087612                        9.184001  \n",
       "1               7707.830052                        7.714206  \n",
       "2               6774.107424                        6.785241  \n",
       "3              10495.218911                       10.470167  \n",
       "4               8428.154639                        8.441898  "
      ]
     },
     "execution_count": 13,
     "metadata": {},
     "output_type": "execute_result"
    }
   ],
   "source": [
    "# Load the location of metro center (lookup up lon and lat from Google Maps)\n",
    "metro_center_lon = -77.032774\n",
    "metro_center_lat = 38.8985198\n",
    "\n",
    "# Make a copy of the affordable housing points in WGS84\n",
    "gdf_wgs84 = gdf.to_crs(WGS84)\n",
    "\n",
    "# Initiate a list to store collected distances \n",
    "dists = []\n",
    "for point in gdf_wgs84['geometry']:\n",
    "    dist = haversine(metro_center_lon, metro_center_lat, point.x, point.y)\n",
    "    dists.append(dist)\n",
    "\n",
    "gdf['haversine_dist_to_metro_center'] = dists\n",
    "\n",
    "gdf[['PROJECT_NAME','utm_dist_to_metro_center', 'haversine_dist_to_metro_center']].head()"
   ]
  },
  {
   "cell_type": "markdown",
   "id": "638da885-7615-41ae-ab34-e01b67b006bb",
   "metadata": {},
   "source": [
    "## Overlay/Spatial Join"
   ]
  },
  {
   "cell_type": "markdown",
   "id": "af693c93-87c2-4c7e-a95d-ddcd18bc2251",
   "metadata": {},
   "source": [
    "### How many projects are within 5 km of Metro Center?\n",
    "\n",
    "- [`buffer`](https://geopandas.org/en/stable/docs/reference/api/geopandas.GeoSeries.buffer.html) method"
   ]
  },
  {
   "cell_type": "markdown",
   "id": "3b5f0459-f60d-4464-93ae-a51304b407e9",
   "metadata": {},
   "source": [
    "### How many projects are in each census tract?\n",
    "\n",
    "- [Tract geometries from Census Reporter](https://censusreporter.org/data/table/?table=B01003&geo_ids=16000US1150000,140|16000US1150000&primary_geo_id=16000US1150000)\n",
    "\n",
    "- [`sjoin`](https://geopandas.org/en/stable/gallery/spatial_joins.html) function"
   ]
  },
  {
   "cell_type": "markdown",
   "id": "8dd8e8f9-3280-4599-82ef-c18232a9d994",
   "metadata": {},
   "source": [
    "### How many units are in each census tract?"
   ]
  },
  {
   "cell_type": "code",
   "execution_count": null,
   "id": "4b495173-6d9d-4391-b820-d9f078a0bd79",
   "metadata": {},
   "outputs": [],
   "source": []
  }
 ],
 "metadata": {
  "colab": {
   "provenance": []
  },
  "kernelspec": {
   "display_name": "Python 3 (ipykernel)",
   "language": "python",
   "name": "python3"
  },
  "language_info": {
   "codemirror_mode": {
    "name": "ipython",
    "version": 3
   },
   "file_extension": ".py",
   "mimetype": "text/x-python",
   "name": "python",
   "nbconvert_exporter": "python",
   "pygments_lexer": "ipython3",
   "version": "3.10.12"
  }
 },
 "nbformat": 4,
 "nbformat_minor": 5
}
